{
 "cells": [
  {
   "cell_type": "markdown",
   "metadata": {},
   "source": [
    "Try to implement the functions and complete lines with \"###\""
   ]
  },
  {
   "cell_type": "code",
   "execution_count": 1,
   "metadata": {
    "ExecuteTime": {
     "end_time": "2018-10-22T15:49:53.124544Z",
     "start_time": "2018-10-22T15:49:53.119759Z"
    }
   },
   "outputs": [],
   "source": [
    "import numpy as np\n",
    "import matplotlib.pyplot as plt\n",
    "import matplotlib as mpl\n",
    "import random\n",
    "mpl.rcParams['text.usetex'] = True\n",
    "mpl.rcParams['text.latex.preamble'] = [r'\\usepackage{amsfonts}']\n",
    "%matplotlib inline"
   ]
  },
  {
   "cell_type": "markdown",
   "metadata": {},
   "source": [
    "### Exercise 2.1"
   ]
  },
  {
   "cell_type": "markdown",
   "metadata": {},
   "source": [
    "What is the distribution of the number of fair coin tosses before one observes 3 heads in a row? To solve this, consider a 4-state Markov chain with transition probability matrix\n",
    "$$\n",
    "    P = \n",
    "    \\begin{bmatrix}\n",
    "        0.5 & 0.5 & 0 & 0 \\\\\n",
    "        0.5 & 0 & 0.5 & 0 \\\\\n",
    "        0.5 & 0 & 0 & 0.5 \\\\\n",
    "        0 & 0 & 0 & 1\n",
    "    \\end{bmatrix}\n",
    "$$\n",
    "where $ X_t = 1 $ if the previous toss was tails, $ X_t = 2 $ if the last two tosses were tails then heads, $ X_t = 3 $ if the last three tosses were tails then heads twice, and $ X_t = 4 $ is an absorbing state that is reached when the last three tosses are heads. "
   ]
  },
  {
   "cell_type": "markdown",
   "metadata": {},
   "source": [
    "* Write a computer program (e.g., in Python, Matlab, ...) to compute $ \\Pr(T_{1,4} = m) $ for $ m = 1, 2, \\ldots, 100 $ and use this to estimate expected number of tosses $ \\mathbb{E}[T_{1,4}] $. "
   ]
  },
  {
   "cell_type": "code",
   "execution_count": 2,
   "metadata": {
    "ExecuteTime": {
     "end_time": "2018-10-22T16:00:09.170580Z",
     "start_time": "2018-10-22T16:00:08.876025Z"
    },
    "scrolled": false
   },
   "outputs": [
    {
     "data": {
      "image/png": "[encoded data removed]",
      "text/plain": [
       "<Figure size 720x432 with 1 Axes>"
      ]
     },
     "metadata": {},
     "output_type": "display_data"
    }
   ],
   "source": [
    "def compute_Phi_ET(P, ns=100):\n",
    "    '''\n",
    "    Arguments:\n",
    "        P {numpy.array} -- n x n, transition matrix of the Markov chain\n",
    "        ns {int} -- largest step to consider\n",
    "\n",
    "    Returns:\n",
    "        Phi_list {numpy.array} -- (ns + 1) x n x n, the Phi matrix for time 0, 1, ...,ns\n",
    "        ET {numpy.array} -- n x n, expectedd hitting time approxiamated up to step ns\n",
    "    '''\n",
    "    # Try to compute following quantities:\n",
    "    # Phi_list[m, i, j] = phi_{i,j}^{(m)} = Pr( T_{i, j} <= m )\n",
    "    # ET[i, j] = E[ T_{i, j} ] ~ \\sum_{m=1}^ns m Pr( T_{i, j} = m )\n",
    "    # Notice in python the index starts from 0\n",
    "    n=P.shape[1]\n",
    "    Phi_list = np.zeros((ns+1,n,n))\n",
    "    for m in range(ns+1):\n",
    "        for i in range(n):\n",
    "            for j in range(n):\n",
    "                if m==0 :\n",
    "                    Phi_list[m,i,j]=(i==j)\n",
    "                else:\n",
    "                    s=0\n",
    "                    for k in range(n):\n",
    "                        s=s+P[i,k]*Phi_list[m-1,k,j]\n",
    "                    Phi_list[m,i,j]=(i==j)+(1-(i==j))*s\n",
    "#Phi_list[m,i,j]=(i==j)+(1-(i==j))*(P[i,0]*Phi_list[m-1,0,j]+P[i,1]*Phi_list[m-1,1,j]+P[i,2]*Phi_list[m-1,2,j]+P[i,3]*Phi_list[m-1,3,j])\n",
    "    ET = np.zeros((n,n))\n",
    "    for i in range(n):\n",
    "        for j in range(n):\n",
    "            for m in range(ns):\n",
    "                ET[i,j]=ET[i,j]+(m+1)*(Phi_list[m+1,i,j]-Phi_list[m,i,j])\n",
    "    \n",
    "    return Phi_list, ET\n",
    "    \n",
    "P = np.array([[0.5, 0.5, 0, 0], [0.5, 0, 0.5, 0], [0.5, 0, 0, 0.5], [0, 0, 0, 1]])  \n",
    "Phi_list, ET = compute_Phi_ET(P, 100)\n",
    "\n",
    "m = np.zeros(100) ### steps to be plotted\n",
    "for i in range(100):\n",
    "    m[i]=i+1\n",
    "\n",
    "Pr = np.empty(100) ### \\Pr(T_{1,4} = m) for all m\n",
    "for i in range(100):\n",
    "    Pr[i]=Phi_list[i+1,0,3]-Phi_list[i,0,3]\n",
    "\n",
    "    \n",
    "E = ET[0,3] ### \\mathbb{E}[T_{1,4}]\n",
    "\n",
    "plt.figure(figsize=(10, 6))\n",
    "plt.stem(m, Pr)\n",
    "plt.xlabel(r'$ m $')\n",
    "plt.ylabel(r'$ \\Pr(T_{1,4}=m) $')\n",
    "plt.title(r'$ \\mathbb{E}[T_{1,4}] = ' + str(E) + ' $');"
   ]
  },
  {
   "cell_type": "markdown",
   "metadata": {},
   "source": [
    "* Write a computer program that generates 500 realizations from this Markov chain and uses them to plots a histogram of $ T_{1,4} $."
   ]
  },
  {
   "cell_type": "code",
   "execution_count": 3,
   "metadata": {
    "ExecuteTime": {
     "end_time": "2018-10-21T20:14:09.256385Z",
     "start_time": "2018-10-21T20:14:08.210502Z"
    },
    "scrolled": false
   },
   "outputs": [
    {
     "data": {
      "image/png": "[encoded data removed]",
      "text/plain": [
       "<Figure size 720x432 with 1 Axes>"
      ]
     },
     "metadata": {},
     "output_type": "display_data"
    }
   ],
   "source": [
    "def simulate_hitting_time(P, states, nr):\n",
    "    '''\n",
    "    Arguments:\n",
    "        P {numpy.array} -- n x n, transition matrix of the Markov chain\n",
    "        states {list[int]} -- the list [start state, end state], index starts from 0\n",
    "        nr {int} -- largest step to consider\n",
    "\n",
    "    Returns:\n",
    "        T {list[int]} -- a size nr list contains the hitting time of all realizations\n",
    "    '''\n",
    "    start, end = states\n",
    "    if start == end: return [0] * nr\n",
    "    # Try to simulate following quantities:\n",
    "    # T[i] = hitting time of the i-th realization\n",
    "    # Notice in python the index starts from 0\n",
    "    \n",
    "    n=P.shape[1]\n",
    "    T=[]\n",
    "    for i in range(nr):\n",
    "        t=0\n",
    "        new=start\n",
    "        while 1:\n",
    "            a=random.random()\n",
    "            for k in range(n):\n",
    "                if k==0 :\n",
    "                    if a<P[new,0]:\n",
    "                        new=0\n",
    "                        t=t+1\n",
    "                        break\n",
    "                    continue\n",
    "                low=0\n",
    "                high=0\n",
    "                for q in range(k):\n",
    "                    low=low+P[new,q]\n",
    "                high=low+P[new,k]\n",
    "                if (a>=low) and (a<high):\n",
    "                    new=k\n",
    "                    t=t+1\n",
    "                    break\n",
    "                \n",
    "            '''\n",
    "            if a<P[new,0]:\n",
    "                new=0\n",
    "                t=t+1\n",
    "            elif (P[new,0]<=a) and (a<(P[new,0]+P[new,1])):\n",
    "                new=1\n",
    "                t=t+1\n",
    "            elif ((P[new,0]+P[new,1])<=a) and (a<(P[new,0]+P[new,1]+P[new,2])):\n",
    "                new=2\n",
    "                t=t+1\n",
    "            elif (a>=(P[new,0]+P[new,1]+P[new,2])):\n",
    "                t=t+1\n",
    "                break\n",
    "            '''\n",
    "            if (new==end):\n",
    "                break\n",
    "        T.append(t)\n",
    "        \n",
    "    return T\n",
    "        \n",
    "T = simulate_hitting_time(P, [0, 3], 500)\n",
    "plt.figure(figsize=(10, 6))\n",
    "plt.hist(T, bins=np.arange(max(T))-0.5)\n",
    "plt.title(r'mean of $ T_{1,4} = ~ $' + str(np.mean(T)));"
   ]
  },
  {
   "cell_type": "markdown",
   "metadata": {},
   "source": [
    "### Exercise 2.2"
   ]
  },
  {
   "cell_type": "markdown",
   "metadata": {},
   "source": [
    "Consider the miniature chutes and ladders game shown in Figure 1. \n",
    "Assume a player starts on the space labeled 1 and plays by rolling a fair four-sided die and then moves that number of spaces. \n",
    "If a player lands on the bottom of a ladder, then they automatically climb to the top. \n",
    "If a player lands at the top of a slide, then they automatically slide to the bottom. \n",
    "This process can be modeled by a Markov chain with $ n = 16 $ states where each state is associated with a square where players can start their turn (e.g., players never start at the bottom of a ladder or the top of a slide). \n",
    "To finish the game, players must land exactly on space 20 (moves beyond this are not taken). "
   ]
  },
  {
   "cell_type": "markdown",
   "metadata": {
    "deletable": false,
    "editable": false,
    "run_control": {
     "frozen": true
    }
   },
   "source": [
    "* Compute the transition probability matrix $ P $ of the implied Markov chain. "
   ]
  },
  {
   "cell_type": "code",
   "execution_count": 4,
   "metadata": {
    "ExecuteTime": {
     "end_time": "2018-10-21T20:14:09.489797Z",
     "start_time": "2018-10-21T20:14:09.258446Z"
    }
   },
   "outputs": [
    {
     "data": {
      "text/plain": [
       "<matplotlib.image.AxesImage at 0xc9c96f2908>"
      ]
     },
     "execution_count": 4,
     "metadata": {},
     "output_type": "execute_result"
    },
    {
     "data": {
      "image/png": "[encoded data removed]",
      "text/plain": [
       "<Figure size 576x576 with 1 Axes>"
      ]
     },
     "metadata": {},
     "output_type": "display_data"
    }
   ],
   "source": [
    "def construct_P_matrix(n, dice, chutes, ladders):\n",
    "    '''\n",
    "    Arguments:\n",
    "        n {int} -- size of the state space\n",
    "        dice {numpy.array} -- probability distribution of the dice outcome\n",
    "        chutes {list[(int, int)]} -- the list of chutes, in pairs of (start, end)\n",
    "        ladders {list[(int, int)]} -- the list of ladders, in pairs of (start, end)\n",
    "\n",
    "    Returns:\n",
    "        P {numpy.array} -- n x n, transition matrix of the Markov chain\n",
    "    '''\n",
    "    # Construct the transition matrix of the chutes & ladders game\n",
    "    a1=len(chutes)\n",
    "    a2=len(ladders)\n",
    "    d=dice.shape[0]\n",
    "    P=np.zeros((n+a1+a2,n+a1+a2))\n",
    "    for i in range(n+a1+a2):\n",
    "        for k in range(d):\n",
    "            if (i+k+1)>=(n+a1+a2):\n",
    "                P[i,i]=P[i,i]+dice[k]\n",
    "            else:\n",
    "                P[i,i+k+1]=dice[k]\n",
    "            for r in range(a1):\n",
    "                if ((i+k+1)==chutes[r][0]):\n",
    "                    P[i,chutes[r][1]]=P[i,chutes[r][1]]+dice[k]\n",
    "            for s in range(a2):\n",
    "                if ((i+k+1)==ladders[s][0]):\n",
    "                    P[i,ladders[s][1]]=P[i,ladders[s][1]]+dice[k]\n",
    "    de_list=[]\n",
    "    for r in range(a1):\n",
    "        de_list.append(chutes[r][0])\n",
    "    for s in range(a2):\n",
    "        de_list.append(ladders[s][0])\n",
    "    de_list.sort()\n",
    "    for i in range(a1+a2):\n",
    "        P=np.delete(P,de_list[a1+a2-1-i],axis=0)\n",
    "        P=np.delete(P,de_list[a1+a2-1-i],axis=1)\n",
    "    '''\n",
    "    for r in range(a1):\n",
    "        P=np.delete(P,chutes[r][0],axis=0)\n",
    "        P=np.delete(P,chutes[r][0],axis=1)\n",
    "        \n",
    "    P=np.delete(P,ladders[0][0]-1,axis=0)\n",
    "    P=np.delete(P,ladders[0][0]-1,axis=1)\n",
    "    P=np.delete(P,ladders[1][0],axis=0)\n",
    "    P=np.delete(P,ladders[1][0],axis=1)\n",
    "    '''\n",
    "    return P\n",
    "\n",
    "n = 16 ###number of states\n",
    "dice = np.array([0.25,0.25,0.25,0.25]) ### probability distribution of dice\n",
    "chutes = [[16,5],[12,1]] ### (sorce, destination) pairs of chutes\n",
    "ladders = [[13,18],[3,7]] ### (sorce, destination) pairs of ladders\n",
    "\n",
    "P = construct_P_matrix(n, dice, chutes, ladders)\n",
    "plt.figure(figsize=(8, 8))\n",
    "plt.imshow(P)"
   ]
  },
  {
   "cell_type": "markdown",
   "metadata": {},
   "source": [
    "* For this Markov chain, write a computer program (e.g., in Python, Matlab, ...) to compute the cumulative distribution of the number turns a player takes to finish (i.e., the probability $ \\Pr(T_{1, 20} \\le m) $ where $ T_{1, 20} $ is the hitting time from state 1 to state 20).\n"
   ]
  },
  {
   "cell_type": "code",
   "execution_count": 5,
   "metadata": {
    "ExecuteTime": {
     "end_time": "2018-10-21T20:14:09.927705Z",
     "start_time": "2018-10-21T20:14:09.492238Z"
    }
   },
   "outputs": [
    {
     "data": {
      "image/png": "[encoded data removed]",
      "text/plain": [
       "<Figure size 720x432 with 1 Axes>"
      ]
     },
     "metadata": {},
     "output_type": "display_data"
    }
   ],
   "source": [
    "Phi_list, ET = compute_Phi_ET(P, ns=200)\n",
    "\n",
    "m = np.zeros(200) ###steps to be plotted\n",
    "for i in range(200):\n",
    "    m[i]=i+1\n",
    "\n",
    "Pr = np.empty(200) ### \\Pr(T_{1,20} <= m) for all m\n",
    "for i in range(200):\n",
    "    Pr[i]=Phi_list[i+1,0,n-1]\n",
    "\n",
    "E = ET[0,n-1] ###\\mathbb{E}[T_{1,20}]\n",
    "\n",
    "plt.figure(figsize=(10, 6))\n",
    "plt.plot(m ,Pr)\n",
    "plt.xlabel(r'$ m $')\n",
    "plt.ylabel(r'$ \\Pr(T_{1,20} \\le m) $')\n",
    "plt.title(r'$ \\mathbb{E}[T_{1,20}] = ' + str(E) + ' $');"
   ]
  },
  {
   "cell_type": "markdown",
   "metadata": {},
   "source": [
    "* Write a computer program that generates 500 realizations from this Markov chain and uses them to plot a histogram of $ T_{1, 20} $.\n"
   ]
  },
  {
   "cell_type": "code",
   "execution_count": 6,
   "metadata": {
    "ExecuteTime": {
     "end_time": "2018-10-21T20:14:10.923041Z",
     "start_time": "2018-10-21T20:14:09.929953Z"
    },
    "scrolled": true
   },
   "outputs": [
    {
     "data": {
      "image/png": "[encoded data removed]",
      "text/plain": [
       "<Figure size 720x432 with 1 Axes>"
      ]
     },
     "metadata": {},
     "output_type": "display_data"
    }
   ],
   "source": [
    "T = simulate_hitting_time(P, [0, n-1], 500)\n",
    "plt.figure(figsize=(10, 6))\n",
    "plt.hist(T, bins=np.arange(max(T))-0.5)\n",
    "plt.title(r'mean of $ T_{1,20} = ~ $' + str(np.mean(T)));"
   ]
  },
  {
   "cell_type": "markdown",
   "metadata": {},
   "source": [
    "* Optional Challenge: If the ﬁrst player rolls 4 and climbs the ladder to square 8, then what is the probability that the second player will win."
   ]
  },
  {
   "cell_type": "code",
   "execution_count": null,
   "metadata": {
    "ExecuteTime": {
     "end_time": "2018-10-21T20:14:10.930664Z",
     "start_time": "2018-10-21T20:14:10.925316Z"
    }
   },
   "outputs": [],
   "source": [
    "Pr_win = 0\n",
    "### compute Pr_win\n",
    "Pr_win"
   ]
  },
  {
   "cell_type": "markdown",
   "metadata": {},
   "source": [
    "### Exercise 2.3"
   ]
  },
  {
   "cell_type": "markdown",
   "metadata": {},
   "source": [
    "In a certain city, it is said that the weather is rainy with a 90% probability if it was rainy the previous day and with a 50% probability if it not rainy the previous day. \n",
    "If we assume that only the previous day’s weather matters, then we can model the weather of this city by a Markov chain with $ n = 2 $ states whose transitions are governed by\n",
    "$$\n",
    "    P = \n",
    "    \\begin{bmatrix}\n",
    "        0.9 & 0.1 \\\\\n",
    "        0.5 & 0.5\n",
    "    \\end{bmatrix}\n",
    "$$\n",
    "Under this model, what is the steady-state probability of rainy weather?\n"
   ]
  },
  {
   "cell_type": "code",
   "execution_count": 7,
   "metadata": {
    "ExecuteTime": {
     "end_time": "2018-10-21T20:14:10.940122Z",
     "start_time": "2018-10-21T20:14:10.932638Z"
    }
   },
   "outputs": [
    {
     "data": {
      "text/plain": [
       "array([0.83333333, 0.16666667])"
      ]
     },
     "execution_count": 7,
     "metadata": {},
     "output_type": "execute_result"
    }
   ],
   "source": [
    "from scipy.linalg import null_space\n",
    "def stationary_distribution(P):\n",
    "    '''\n",
    "    Arguments:\n",
    "        P {numpy.array} -- n x n, transition matrix of the Markov chain\n",
    "\n",
    "    Returns:\n",
    "        pi {numpy.array} -- length n, stationary distribution of the Markov chain\n",
    "    '''\n",
    "    # Think pi as column vector, solve linear equations:\n",
    "    #     P^T pi = pi\n",
    "    #     sum(pi) = 1\n",
    "    n=P.shape[0]\n",
    "    pi=np.zeros(n)\n",
    "    I=np.identity(n)\n",
    "    IP=np.subtract(I,P)\n",
    "    T=IP.transpose()\n",
    "    #T=np.array([[0.1,-0.5], [-0.1,0.5]])\n",
    "    #T = Matrix(T)\n",
    "    ns = null_space(T)\n",
    "    ns=ns * np.sign(ns[0,0])\n",
    "    su=0\n",
    "    for i in range(n):\n",
    "        pi[i]=ns[i][0]\n",
    "        su=su+pi[i]\n",
    "    for i in range(n):\n",
    "        pi[i]=pi[i]/su\n",
    "    return pi\n",
    "\n",
    "P = np.array([[0.9,0.1],[0.5,0.5]])\n",
    "stationary_distribution(P)"
   ]
  },
  {
   "cell_type": "markdown",
   "metadata": {},
   "source": [
    "### Exercise 2.4"
   ]
  },
  {
   "cell_type": "markdown",
   "metadata": {},
   "source": [
    "Consider a game where the gameboard has 8 diﬀerent spaces arranged in a circle. \n",
    "During each turn, a player rolls two 4-sided dice and moves clockwise by a number of spaces equal to their sum. \n",
    "Deﬁne the transition matrix for this 8-state Markov chain and compute its stationary probability distribution."
   ]
  },
  {
   "cell_type": "code",
   "execution_count": 8,
   "metadata": {
    "ExecuteTime": {
     "end_time": "2018-10-21T20:14:10.947659Z",
     "start_time": "2018-10-21T20:14:10.942035Z"
    },
    "scrolled": true
   },
   "outputs": [
    {
     "name": "stdout",
     "output_type": "stream",
     "text": [
      "[[0.0625 0.     0.0625 0.125  0.1875 0.25   0.1875 0.125 ]\n",
      " [0.125  0.0625 0.     0.0625 0.125  0.1875 0.25   0.1875]\n",
      " [0.1875 0.125  0.0625 0.     0.0625 0.125  0.1875 0.25  ]\n",
      " [0.25   0.1875 0.125  0.0625 0.     0.0625 0.125  0.1875]\n",
      " [0.1875 0.25   0.1875 0.125  0.0625 0.     0.0625 0.125 ]\n",
      " [0.125  0.1875 0.25   0.1875 0.125  0.0625 0.     0.0625]\n",
      " [0.0625 0.125  0.1875 0.25   0.1875 0.125  0.0625 0.    ]\n",
      " [0.     0.0625 0.125  0.1875 0.25   0.1875 0.125  0.0625]]\n"
     ]
    },
    {
     "data": {
      "text/plain": [
       "array([0.125, 0.125, 0.125, 0.125, 0.125, 0.125, 0.125, 0.125])"
      ]
     },
     "execution_count": 8,
     "metadata": {},
     "output_type": "execute_result"
    }
   ],
   "source": [
    "P = np.array([[1/16,0,1/16,1/8,3/16,1/4,3/16,1/8],[1/8,1/16,0,1/16,1/8,3/16,1/4,3/16],[3/16,1/8,1/16,0,1/16,1/8,3/16,1/4],[1/4,3/16,1/8,1/16,0,1/16,1/8,3/16],[3/16,1/4,3/16,1/8,1/16,0,1/16,1/8],[1/8,3/16,1/4,3/16,1/8,1/16,0,1/16],[1/16,1/8,3/16,1/4,3/16,1/8,1/16,0],[0,1/16,1/8,3/16,1/4,3/16,1/8,1/16]])### construct the transition matrix\n",
    "\n",
    "print(P)\n",
    "stationary_distribution(P)"
   ]
  },
  {
   "cell_type": "markdown",
   "metadata": {},
   "source": [
    "Next, suppose that one space is special (e.g., state-1 of the Markov chain) and a player can only leave this space by rolling doubles (i.e., when both dice show the same value). Again, the player moves clockwise by a number of spaces equal to their sum. Deﬁne the transition matrix for this 8-state Markov chain and compute its stationary probability distribution."
   ]
  },
  {
   "cell_type": "code",
   "execution_count": 9,
   "metadata": {
    "ExecuteTime": {
     "end_time": "2018-10-21T20:14:10.954533Z",
     "start_time": "2018-10-21T20:14:10.949166Z"
    }
   },
   "outputs": [
    {
     "name": "stdout",
     "output_type": "stream",
     "text": [
      "[[0.8125 0.     0.0625 0.     0.0625 0.     0.0625 0.    ]\n",
      " [0.125  0.0625 0.     0.0625 0.125  0.1875 0.25   0.1875]\n",
      " [0.1875 0.125  0.0625 0.     0.0625 0.125  0.1875 0.25  ]\n",
      " [0.25   0.1875 0.125  0.0625 0.     0.0625 0.125  0.1875]\n",
      " [0.1875 0.25   0.1875 0.125  0.0625 0.     0.0625 0.125 ]\n",
      " [0.125  0.1875 0.25   0.1875 0.125  0.0625 0.     0.0625]\n",
      " [0.0625 0.125  0.1875 0.25   0.1875 0.125  0.0625 0.    ]\n",
      " [0.     0.0625 0.125  0.1875 0.25   0.1875 0.125  0.0625]]\n"
     ]
    },
    {
     "data": {
      "text/plain": [
       "array([0.41836864, 0.08285234, 0.10176963, 0.07092795, 0.09311176,\n",
       "       0.0625555 , 0.09593429, 0.07447989])"
      ]
     },
     "execution_count": 9,
     "metadata": {},
     "output_type": "execute_result"
    }
   ],
   "source": [
    "P = np.array([[13/16,0,1/16,0,1/16,0,1/16,0],[1/8,1/16,0,1/16,1/8,3/16,1/4,3/16],[3/16,1/8,1/16,0,1/16,1/8,3/16,1/4],[1/4,3/16,1/8,1/16,0,1/16,1/8,3/16],[3/16,1/4,3/16,1/8,1/16,0,1/16,1/8],[1/8,3/16,1/4,3/16,1/8,1/16,0,1/16],[1/16,1/8,3/16,1/4,3/16,1/8,1/16,0],[0,1/16,1/8,3/16,1/4,3/16,1/8,1/16]]) ### construct the transition matrix\n",
    "print(P)\n",
    "stationary_distribution(P)"
   ]
  },
  {
   "cell_type": "code",
   "execution_count": null,
   "metadata": {},
   "outputs": [],
   "source": []
  }
 ],
 "metadata": {
  "hide_input": false,
  "kernelspec": {
   "display_name": "Python 3",
   "language": "python",
   "name": "python3"
  },
  "language_info": {
   "codemirror_mode": {
    "name": "ipython",
    "version": 3
   },
   "file_extension": ".py",
   "mimetype": "text/x-python",
   "name": "python",
   "nbconvert_exporter": "python",
   "pygments_lexer": "ipython3",
   "version": "3.6.5"
  },
  "varInspector": {
   "cols": {
    "lenName": 16,
    "lenType": 16,
    "lenVar": 40
   },
   "kernels_config": {
    "python": {
     "delete_cmd_postfix": "",
     "delete_cmd_prefix": "del ",
     "library": "var_list.py",
     "varRefreshCmd": "print(var_dic_list())"
    },
    "r": {
     "delete_cmd_postfix": ") ",
     "delete_cmd_prefix": "rm(",
     "library": "var_list.r",
     "varRefreshCmd": "cat(var_dic_list()) "
    }
   },
   "types_to_exclude": [
    "module",
    "function",
    "builtin_function_or_method",
    "instance",
    "_Feature"
   ],
   "window_display": false
  }
 },
 "nbformat": 4,
 "nbformat_minor": 2
}
