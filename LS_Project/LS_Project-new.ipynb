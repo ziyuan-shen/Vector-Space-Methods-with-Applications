{
 "cells": [
  {
   "cell_type": "code",
   "execution_count": 1,
   "metadata": {
    "ExecuteTime": {
     "end_time": "2018-11-12T05:29:46.877644Z",
     "start_time": "2018-11-12T05:29:46.873129Z"
    }
   },
   "outputs": [],
   "source": [
    "import numpy as np\n",
    "import pandas as pd\n",
    "import matplotlib.pyplot as plt\n",
    "import itertools as it\n",
    "%matplotlib inline"
   ]
  },
  {
   "cell_type": "markdown",
   "metadata": {},
   "source": [
    "### Problem 2.1"
   ]
  },
  {
   "cell_type": "markdown",
   "metadata": {},
   "source": [
    "When $n=1$, we can fit a degree-$m$ polynomial by choosing $f_{j}(x)=x^{j-1}$ and $M=m+1$. \n",
    "In this case, it follows that $A_{i,j}=x_{i}^{j-1}$\n",
    "and the matrix $A$ is called a Vandermonde matrix."
   ]
  },
  {
   "cell_type": "markdown",
   "metadata": {},
   "source": [
    "Write a function to create Vandermonde matrix **(5pt)**"
   ]
  },
  {
   "cell_type": "code",
   "execution_count": 2,
   "metadata": {
    "ExecuteTime": {
     "end_time": "2018-11-11T02:24:09.985413Z",
     "start_time": "2018-11-11T02:24:09.980073Z"
    }
   },
   "outputs": [
    {
     "data": {
      "text/plain": [
       "array([[  1.,   1.,   1.,   1.],\n",
       "       [  1.,   2.,   4.,   8.],\n",
       "       [  1.,   3.,   9.,  27.],\n",
       "       [  1.,   4.,  16.,  64.],\n",
       "       [  1.,   5.,  25., 125.],\n",
       "       [  1.,   6.,  36., 216.],\n",
       "       [  1.,   7.,  49., 343.],\n",
       "       [  1.,   8.,  64., 512.],\n",
       "       [  1.,   9.,  81., 729.]])"
      ]
     },
     "execution_count": 2,
     "metadata": {},
     "output_type": "execute_result"
    }
   ],
   "source": [
    "def create_vandermonde(x, m):\n",
    "    \"\"\"\n",
    "    Arguments:\n",
    "        x {numpy.ndarray} -- 1d-array of (x_1, x_2, ..., x_n)\n",
    "        m {int} -- a non-negative integer, degree of polynomial fit\n",
    "    Returns:\n",
    "        A {numpy.ndarray} -- an n x (m+1) matrix where A_{ij} = x_i^{j-1}\n",
    "    \"\"\"\n",
    "    A=np.zeros((x.shape[0],m+1))\n",
    "    for i in range(x.shape[0]):\n",
    "        for j in range(m+1):\n",
    "            A[i,j]=x[i]**j\n",
    "    return A\n",
    "\n",
    "x = np.arange(1, 10)\n",
    "create_vandermonde(x, 3)"
   ]
  },
  {
   "cell_type": "markdown",
   "metadata": {},
   "source": [
    "### Problem 2.2"
   ]
  },
  {
   "cell_type": "markdown",
   "metadata": {
    "ExecuteTime": {
     "end_time": "2018-11-11T08:20:31.914140Z",
     "start_time": "2018-11-11T08:20:31.910401Z"
    }
   },
   "source": [
    "Write a function to solve least-square problem **(5pt)**\n",
    "\n",
    "Implementation hint: check `numpy.linalg.lstsq`."
   ]
  },
  {
   "cell_type": "code",
   "execution_count": 3,
   "metadata": {
    "ExecuteTime": {
     "end_time": "2018-11-11T02:24:42.102116Z",
     "start_time": "2018-11-11T02:24:42.098730Z"
    }
   },
   "outputs": [],
   "source": [
    "def solve_linear_LS(A, y):\n",
    "    \"\"\"\n",
    "    Arguments:\n",
    "        A {numpy.ndarray} -- an m x n matrix\n",
    "        y {numpy.ndarray} -- a length-n vector\n",
    "    Returns:\n",
    "        z_hat {numpy.ndarray} -- length-m vector, the optimal solution for the given linear least-square problem\n",
    "    \"\"\"\n",
    "    z_hat=np.linalg.lstsq(A, y)[0]\n",
    "    return z_hat"
   ]
  },
  {
   "cell_type": "markdown",
   "metadata": {
    "ExecuteTime": {
     "end_time": "2018-11-10T23:36:44.151406Z",
     "start_time": "2018-11-10T23:36:44.147872Z"
    }
   },
   "source": [
    "Using the setup in the previous example, try fitting the points $(1,2),(2,3),(3,5),(4,7),(5,11),(6,13)$\n",
    "to a degree-2 polynomial.\n",
    "\n",
    "Compute the minimum squared error. **(5pt)**\n",
    "\n",
    "Plot this polynomial (for $x\\in[0,7]$) along with the data points to see the quality of fit. **(5pt)**"
   ]
  },
  {
   "cell_type": "code",
   "execution_count": 4,
   "metadata": {
    "ExecuteTime": {
     "end_time": "2018-11-11T02:24:42.608714Z",
     "start_time": "2018-11-11T02:24:42.474697Z"
    }
   },
   "outputs": [
    {
     "name": "stderr",
     "output_type": "stream",
     "text": [
      "C:\\Users\\Administrator\\Anaconda3\\lib\\site-packages\\ipykernel_launcher.py:9: FutureWarning: `rcond` parameter will change to the default of machine precision times ``max(M, N)`` where M and N are the input matrix dimensions.\n",
      "To use the future default and silence this warning we advise to pass `rcond=None`, to keep using the old, explicitly pass `rcond=-1`.\n",
      "  if __name__ == '__main__':\n"
     ]
    },
    {
     "name": "stdout",
     "output_type": "stream",
     "text": [
      "best polynomial fit is 0.2321 x^2 + 0.6893 x^1 + 0.9000\n",
      "minimum squared error is 1.0929\n"
     ]
    },
    {
     "data": {
      "image/png": "[encoded data removed]",
      "text/plain": [
       "<Figure size 576x288 with 1 Axes>"
      ]
     },
     "metadata": {},
     "output_type": "display_data"
    }
   ],
   "source": [
    "x = np.array([1, 2, 3, 4, 5, 6])\n",
    "y = np.array([2, 3, 5, 7, 11, 13])\n",
    "m = 2\n",
    "\n",
    "# Create Vandermonde matrix A\n",
    "A = create_vandermonde(x,m)\n",
    "\n",
    "# Solve least square problem to minimize || y - A z ||^2\n",
    "z_hat = solve_linear_LS(A, y)\n",
    "\n",
    "# Compute the minimum square error\n",
    "mse = np.linalg.norm(np.subtract(y,A.dot(z_hat.T)))**2\n",
    "\n",
    "# Generate plot points for the fitted polynomial\n",
    "xx = np.arange(0,8)\n",
    "yy = create_vandermonde(xx,m).dot(z_hat.T).T\n",
    "\n",
    "plt.figure(figsize=(8, 4))\n",
    "plt.scatter(x, y, color='red', label='data points')\n",
    "plt.plot(xx, yy, label='polynomial fit')\n",
    "plt.legend()\n",
    "\n",
    "poly_expr = ' + '.join(['{0:.4f} x^{1}'.format(v, i) for i, v in enumerate(z_hat)][::-1])[:-4]\n",
    "print('best polynomial fit is {0}'.format(poly_expr))\n",
    "print('minimum squared error is {0:.4f}'.format(mse))"
   ]
  },
  {
   "cell_type": "markdown",
   "metadata": {},
   "source": [
    "### Problem 3.2"
   ]
  },
  {
   "cell_type": "markdown",
   "metadata": {},
   "source": [
    "Read `mnist_train.csv`, create a dataframe with two columns, column `feature` contains all $x$ and column `label` contains all $y$"
   ]
  },
  {
   "cell_type": "code",
   "execution_count": 5,
   "metadata": {
    "ExecuteTime": {
     "end_time": "2018-11-11T01:37:44.960281Z",
     "start_time": "2018-11-11T01:37:38.796829Z"
    }
   },
   "outputs": [
    {
     "data": {
      "text/html": [
       "<div>\n",
       "<style scoped>\n",
       "    .dataframe tbody tr th:only-of-type {\n",
       "        vertical-align: middle;\n",
       "    }\n",
       "\n",
       "    .dataframe tbody tr th {\n",
       "        vertical-align: top;\n",
       "    }\n",
       "\n",
       "    .dataframe thead th {\n",
       "        text-align: right;\n",
       "    }\n",
       "</style>\n",
       "<table border=\"1\" class=\"dataframe\">\n",
       "  <thead>\n",
       "    <tr style=\"text-align: right;\">\n",
       "      <th></th>\n",
       "      <th>feature</th>\n",
       "      <th>label</th>\n",
       "    </tr>\n",
       "  </thead>\n",
       "  <tbody>\n",
       "    <tr>\n",
       "      <th>0</th>\n",
       "      <td>[0, 0, 0, 0, 0, 0, 0, 0, 0, 0, 0, 0, 0, 0, 0, ...</td>\n",
       "      <td>1</td>\n",
       "    </tr>\n",
       "    <tr>\n",
       "      <th>1</th>\n",
       "      <td>[0, 0, 0, 0, 0, 0, 0, 0, 0, 0, 0, 0, 0, 0, 0, ...</td>\n",
       "      <td>0</td>\n",
       "    </tr>\n",
       "    <tr>\n",
       "      <th>2</th>\n",
       "      <td>[0, 0, 0, 0, 0, 0, 0, 0, 0, 0, 0, 0, 0, 0, 0, ...</td>\n",
       "      <td>1</td>\n",
       "    </tr>\n",
       "    <tr>\n",
       "      <th>3</th>\n",
       "      <td>[0, 0, 0, 0, 0, 0, 0, 0, 0, 0, 0, 0, 0, 0, 0, ...</td>\n",
       "      <td>4</td>\n",
       "    </tr>\n",
       "    <tr>\n",
       "      <th>4</th>\n",
       "      <td>[0, 0, 0, 0, 0, 0, 0, 0, 0, 0, 0, 0, 0, 0, 0, ...</td>\n",
       "      <td>0</td>\n",
       "    </tr>\n",
       "  </tbody>\n",
       "</table>\n",
       "</div>"
      ],
      "text/plain": [
       "                                             feature  label\n",
       "0  [0, 0, 0, 0, 0, 0, 0, 0, 0, 0, 0, 0, 0, 0, 0, ...      1\n",
       "1  [0, 0, 0, 0, 0, 0, 0, 0, 0, 0, 0, 0, 0, 0, 0, ...      0\n",
       "2  [0, 0, 0, 0, 0, 0, 0, 0, 0, 0, 0, 0, 0, 0, 0, ...      1\n",
       "3  [0, 0, 0, 0, 0, 0, 0, 0, 0, 0, 0, 0, 0, 0, 0, ...      4\n",
       "4  [0, 0, 0, 0, 0, 0, 0, 0, 0, 0, 0, 0, 0, 0, 0, ...      0"
      ]
     },
     "execution_count": 5,
     "metadata": {},
     "output_type": "execute_result"
    }
   ],
   "source": [
    "# read mnist csv file to a dataframe\n",
    "df = pd.read_csv('mnist_train.csv')\n",
    "\n",
    "# append feature column by merging all pixel columns\n",
    "df['feature'] = df.apply(lambda row: row.values[1:], axis=1)\n",
    "\n",
    "# only keep feature and label column\n",
    "df = df[['feature', 'label']]\n",
    "\n",
    "# display first 5 rows of the dataframe\n",
    "df.head()"
   ]
  },
  {
   "cell_type": "markdown",
   "metadata": {},
   "source": [
    "Plot the first 30 images"
   ]
  },
  {
   "cell_type": "code",
   "execution_count": 6,
   "metadata": {
    "ExecuteTime": {
     "end_time": "2018-11-11T01:43:11.829646Z",
     "start_time": "2018-11-11T01:43:11.044296Z"
    }
   },
   "outputs": [
    {
     "data": {
      "image/png": "[encoded data removed]",
      "text/plain": [
       "<Figure size 1080x180 with 30 Axes>"
      ]
     },
     "metadata": {},
     "output_type": "display_data"
    }
   ],
   "source": [
    "plt.figure(figsize=(15, 2.5))\n",
    "for i, row in df.iloc[:30].iterrows():\n",
    "    x, y = row['feature'], row['label']\n",
    "    plt.subplot(2, 15, i + 1)\n",
    "    plt.imshow(x.reshape(28, 28), cmap='gray')\n",
    "    plt.axis('off')\n",
    "    plt.title(y)"
   ]
  },
  {
   "cell_type": "markdown",
   "metadata": {},
   "source": [
    "Extract the all samples labeled with digit $n$ and randomly separate the samples into equal-sized training and testing groups. **(10pt)**"
   ]
  },
  {
   "cell_type": "code",
   "execution_count": 7,
   "metadata": {
    "ExecuteTime": {
     "end_time": "2018-11-11T07:45:44.606867Z",
     "start_time": "2018-11-11T07:45:44.602783Z"
    }
   },
   "outputs": [],
   "source": [
    "from sklearn.model_selection import train_test_split\n",
    "def extract_and_split(df, d, test_size=0.5):\n",
    "    \"\"\"\n",
    "    extract the samples with given lables and randomly separate the samples into equal-sized training and testing groups, extend each vector to length 785 by appending a −1\n",
    "    Arguments:\n",
    "        df {dataframe} -- the dataframe of MNIST dataset\n",
    "        d {int} -- digit needs to be extracted, can be 0, 1, ..., 9\n",
    "        test_size {float} -- the fraction of testing set, default value is 0.5\n",
    "    Returns:\n",
    "        X_tr {numpy.ndarray} -- training set features, a matrix with 785 columns\n",
    "                                each row corresponds the feature of a sample\n",
    "        y_tr {numpy.ndarray} -- training set labels, 1d-array\n",
    "                                each element corresponds the label of a sample\n",
    "        X_te {numpy.ndarray} -- testing set features, a matrix with 785 columns \n",
    "                                each row corresponds the feature of a sample\n",
    "        y_te {numpy.ndarray} -- testing set labels, 1d-array\n",
    "                                each element corresponds the label of a sample\n",
    "    \"\"\"\n",
    "    df_d=df.loc[df['label']==d]   #extract digit d\n",
    "    X=df_d['feature']\n",
    "    y=df_d['label']\n",
    "    X_train, X_test, y_train, y_test = train_test_split(X, y, test_size=test_size, random_state=0)\n",
    "    X_train=X_train.values   #convert datafram to array\n",
    "    X_test=X_test.values\n",
    "    y_train=y_train.values\n",
    "    y_test=y_test.values\n",
    "    \n",
    "    X_tr=np.zeros((X_train.shape[0],784))\n",
    "    y_tr=np.zeros(y_train.shape[0])\n",
    "    for i in range(X_train.shape[0]):\n",
    "        for j in range(784):\n",
    "            X_tr[i,j]=X_train[i][j]\n",
    "    for i in range(y_train.shape[0]):\n",
    "        y_tr[i]=y_train[i]\n",
    "    X_tr=np.insert(X_tr,784,-1,axis=1)\n",
    "    \n",
    "    X_te=np.zeros((X_test.shape[0],784))\n",
    "    y_te=np.zeros(y_test.shape[0])\n",
    "    for i in range(X_test.shape[0]):\n",
    "        for j in range(784):\n",
    "            X_te[i,j]=X_test[i][j]\n",
    "    for i in range(y_test.shape[0]):\n",
    "        y_te[i]=y_test[i]\n",
    "    X_te=np.insert(X_te,784,-1,axis=1)\n",
    "    return X_tr, X_te, y_tr, y_te"
   ]
  },
  {
   "cell_type": "markdown",
   "metadata": {},
   "source": [
    "A useful preprocess function before you draw histogram.\n",
    "Sometimes your histogram becomes ugly because of the existence of outlier points.\n",
    "The function below drops the unwanted outlier points, please call this function before you pass your result to draw a histogram."
   ]
  },
  {
   "cell_type": "code",
   "execution_count": 8,
   "metadata": {},
   "outputs": [],
   "source": [
    "def remove_outlier(x, thresh=3.5):\n",
    "    \"\"\"\n",
    "    returns points that are not outliers to make histogram prettier\n",
    "    reference: https://stackoverflow.com/questions/11882393/matplotlib-disregard-outliers-when-plotting/11886564\n",
    "    Arguments:\n",
    "        x {numpy.ndarray} -- 1d-array, points to be filtered\n",
    "        thresh {float} -- the modified z-score to use as a threshold. Observations with\n",
    "                          a modified z-score (based on the median absolute deviation) greater\n",
    "                          than this value will be classified as outliers.\n",
    "    Returns:\n",
    "        x_filtered {numpy.ndarray} -- 1d-array, filtered points after dropping outlier\n",
    "    \"\"\"\n",
    "    if len(x.shape) == 1: x = x[:,None]\n",
    "    median = np.median(x, axis=0)\n",
    "    diff = np.sqrt(((x - median)**2).sum(axis=-1))\n",
    "    modified_z_score = 0.6745 * diff / np.median(diff)\n",
    "    x_filtered = x[modified_z_score <= thresh]\n",
    "    return x_filtered"
   ]
  },
  {
   "cell_type": "markdown",
   "metadata": {},
   "source": [
    "Pairwise experiment for applying least-square to classify digit $a$ and digit $b$. \n",
    "\n",
    "Follow the given steps in the template and implement the function for pairwise experiment **(25pt)**"
   ]
  },
  {
   "cell_type": "code",
   "execution_count": 12,
   "metadata": {
    "ExecuteTime": {
     "end_time": "2018-11-11T07:53:22.761924Z",
     "start_time": "2018-11-11T07:53:22.753615Z"
    }
   },
   "outputs": [],
   "source": [
    "def mnist_pairwise_LS(df, a, b, test_size=0.5, verbose=False):\n",
    "    \"\"\"\n",
    "    Pairwise experiment for applying least-square to classify digit a and digit b\n",
    "    Arguments:\n",
    "        df {dataframe} -- the dataframe of MNIST dataset\n",
    "        a, b {int} -- digits to be classified\n",
    "        test_size {float} -- the fraction of testing set, default value is 0.5\n",
    "        verbose {bool} -- whether to print and plot results\n",
    "    Returns:\n",
    "        res {numpy.ndarray} -- numpy.array([traing error, testing error])\n",
    "    \"\"\"\n",
    "    # Find all samples labeled with digit a and split into train/test sets\n",
    "    Xa_tr, Xa_te, ya_tr, ya_te = extract_and_split(df, a, test_size)\n",
    "    # Find all samples labeled with digit b and split into train/test sets\n",
    "    Xb_tr, Xb_te, yb_tr, yb_te = extract_and_split(df, b, test_size)\n",
    "    \n",
    "    for i in range(ya_tr.shape[0]):\n",
    "        ya_tr[i]=-1;\n",
    "\n",
    "    for i in range(ya_te.shape[0]):\n",
    "        ya_te[i]=-1;\n",
    "        \n",
    "    for i in range(yb_tr.shape[0]):\n",
    "        yb_tr[i]=1;\n",
    "\n",
    "    for i in range(yb_te.shape[0]):\n",
    "        yb_te[i]=1;  \n",
    "\n",
    "    # Construct the full training set\n",
    "    X_tr = np.concatenate((Xa_tr, Xb_tr), axis=0)\n",
    "    y_tr = np.concatenate((ya_tr, yb_tr), axis=0)\n",
    "    \n",
    "    # Construct the full testing set\n",
    "    X_te = np.concatenate((Xa_te, Xb_te), axis=0)\n",
    "    y_te = np.concatenate((ya_te, yb_te), axis=0)\n",
    "    \n",
    "    # Run least-square on training set\n",
    "    z_hat = solve_linear_LS(X_tr, y_tr)\n",
    "    \n",
    "    # Compute estimation and misclassification on training set\n",
    "    y_hat_tr = X_tr.dot(z_hat)\n",
    "    for i in range(y_hat_tr.shape[0]):\n",
    "        if y_hat_tr[i]>=0:\n",
    "            y_hat_tr[i]=1\n",
    "        else:\n",
    "            y_hat_tr[i]=-1\n",
    "    \n",
    "    cm_tr=np.array([[0,0],[0,0]])\n",
    "    \n",
    "    for i in range(y_hat_tr.shape[0]):\n",
    "        if (y_tr[i]==-1 and y_hat_tr[i]==-1):\n",
    "            cm_tr[0,0]=cm_tr[0,0]+1\n",
    "        elif (y_tr[i]==-1 and y_hat_tr[i]==1):\n",
    "            cm_tr[0,1]=cm_tr[0,1]+1\n",
    "        elif (y_tr[i]==1 and y_hat_tr[i]==-1):\n",
    "            cm_tr[1,0]=cm_tr[1,0]+1\n",
    "        elif (y_tr[i]==1 and y_hat_tr[i]==1):\n",
    "            cm_tr[1,1]=cm_tr[1,1]+1\n",
    "            \n",
    "    err_tr = (cm_tr[0,1]+cm_tr[1,0])/y_hat_tr.shape[0]\n",
    "    \n",
    "    # Compute estimation and misclassification on training set\n",
    "    y_hat_te = X_te.dot(z_hat)\n",
    "    for i in range(y_hat_te.shape[0]):\n",
    "        if y_hat_te[i]>=0:\n",
    "            y_hat_te[i]=1\n",
    "        else:\n",
    "            y_hat_te[i]=-1\n",
    "    \n",
    "    cm_te=np.array([[0,0],[0,0]])\n",
    "    \n",
    "    for i in range(y_hat_te.shape[0]):\n",
    "        if (y_te[i]==-1 and y_hat_te[i]==-1):\n",
    "            cm_te[0,0]=cm_te[0,0]+1\n",
    "        elif (y_te[i]==-1 and y_hat_te[i]==1):\n",
    "            cm_te[0,1]=cm_te[0,1]+1\n",
    "        elif (y_te[i]==1 and y_hat_te[i]==-1):\n",
    "            cm_te[1,0]=cm_te[1,0]+1\n",
    "        elif (y_te[i]==1 and y_hat_te[i]==1):\n",
    "            cm_te[1,1]=cm_te[1,1]+1\n",
    "    \n",
    "    err_te = (cm_te[0,1]+cm_te[1,0])/y_hat_te.shape[0]\n",
    "    \n",
    "    if verbose:\n",
    "        print('Pairwise experiment, mapping {0} to -1, mapping {1} to 1'.format(a, b))\n",
    "        print('training error = {0:.2f}%, testing error = {1:.2f}%'.format(100 * err_tr, 100 * err_te))\n",
    "        \n",
    "        # Compute confusion matrix\n",
    "        print('Confusion matrix_test:\\n {0}'.format(cm_te))\n",
    "        print('Confusion matrix_train:\\n {0}'.format(cm_tr))\n",
    "\n",
    "        # Compute the histogram of the function output separately for each class \n",
    "        # Then plot the two histograms together\n",
    "        ya_te_hat, yb_te_hat = Xa_te.dot(z_hat), Xb_te.dot(z_hat)\n",
    "        output = [remove_outlier(ya_te_hat), remove_outlier(yb_te_hat)]\n",
    "        plt.figure(figsize=(8, 4))\n",
    "        plt.hist(output, bins=50)\n",
    "    \n",
    "    res = np.array([err_tr, err_te])\n",
    "    return res"
   ]
  },
  {
   "cell_type": "markdown",
   "metadata": {},
   "source": [
    "Pairwise experiment for applying least-square to classify digit $0$ and digit $1$."
   ]
  },
  {
   "cell_type": "code",
   "execution_count": 13,
   "metadata": {
    "ExecuteTime": {
     "end_time": "2018-11-11T07:53:07.970071Z",
     "start_time": "2018-11-11T07:53:06.924725Z"
    },
    "scrolled": false
   },
   "outputs": [
    {
     "name": "stderr",
     "output_type": "stream",
     "text": [
      "C:\\Users\\Administrator\\Anaconda3\\lib\\site-packages\\ipykernel_launcher.py:9: FutureWarning: `rcond` parameter will change to the default of machine precision times ``max(M, N)`` where M and N are the input matrix dimensions.\n",
      "To use the future default and silence this warning we advise to pass `rcond=None`, to keep using the old, explicitly pass `rcond=-1`.\n",
      "  if __name__ == '__main__':\n"
     ]
    },
    {
     "name": "stdout",
     "output_type": "stream",
     "text": [
      "Pairwise experiment, mapping 0 to -1, mapping 1 to 1\n",
      "training error = 0.32%, testing error = 1.59%\n",
      "Confusion matrix_test:\n",
      " [[2037   29]\n",
      " [  41 2301]]\n",
      "Confusion matrix_train:\n",
      " [[2062    4]\n",
      " [  10 2332]]\n"
     ]
    },
    {
     "data": {
      "text/plain": [
       "array([0.00317604, 0.01588022])"
      ]
     },
     "execution_count": 13,
     "metadata": {},
     "output_type": "execute_result"
    },
    {
     "data": {
      "image/png": "[encoded data removed]",
      "text/plain": [
       "<Figure size 576x288 with 1 Axes>"
      ]
     },
     "metadata": {},
     "output_type": "display_data"
    }
   ],
   "source": [
    "mnist_pairwise_LS(df, 0, 1, verbose=True)"
   ]
  },
  {
   "cell_type": "markdown",
   "metadata": {},
   "source": [
    "### Problem 3.3"
   ]
  },
  {
   "cell_type": "markdown",
   "metadata": {},
   "source": [
    "Repeat the above problem for all pairs of digits. For each pair of digits, report the classification error rates for the training and testing sets. The error rates can be formatted nicely into a triangular matrix. **(15pt)**\n",
    "\n",
    "For example, you can put all testing error in the lower triangle and all training error in the upper triangle.\n",
    "You may run the classification several times to get an average error rate over different sample split."
   ]
  },
  {
   "cell_type": "code",
   "execution_count": 14,
   "metadata": {
    "ExecuteTime": {
     "end_time": "2018-11-11T08:07:17.721287Z",
     "start_time": "2018-11-11T08:03:29.541994Z"
    }
   },
   "outputs": [
    {
     "name": "stderr",
     "output_type": "stream",
     "text": [
      "C:\\Users\\Administrator\\Anaconda3\\lib\\site-packages\\ipykernel_launcher.py:9: FutureWarning: `rcond` parameter will change to the default of machine precision times ``max(M, N)`` where M and N are the input matrix dimensions.\n",
      "To use the future default and silence this warning we advise to pass `rcond=None`, to keep using the old, explicitly pass `rcond=-1`.\n",
      "  if __name__ == '__main__':\n"
     ]
    },
    {
     "name": "stdout",
     "output_type": "stream",
     "text": [
      "[[0.   0.32 0.82 0.4  0.37 1.16 0.68 0.16 0.78 0.38]\n",
      " [1.59 0.   0.88 0.8  0.14 0.57 0.18 0.55 1.74 0.34]\n",
      " [2.36 2.73 0.   1.92 0.87 1.28 2.29 1.1  2.04 0.67]\n",
      " [1.32 2.19 4.24 0.   0.24 2.7  0.33 0.82 2.43 1.24]\n",
      " [0.78 1.26 2.35 1.33 0.   0.58 0.29 0.71 0.44 2.15]\n",
      " [2.72 1.91 3.44 5.96 2.14 0.   5.22 0.22 2.37 0.73]\n",
      " [2.13 1.18 4.47 1.74 1.41 8.04 0.   0.   0.88 0.17]\n",
      " [1.01 2.05 3.22 2.12 2.74 1.63 1.15 0.   0.59 2.7 ]\n",
      " [1.68 4.28 4.22 4.97 1.4  5.17 2.49 2.22 0.   1.24]\n",
      " [1.44 1.31 2.58 2.79 5.01 2.58 0.77 5.29 3.05 0.  ]]\n"
     ]
    },
    {
     "data": {
      "image/png": "[encoded data removed]",
      "text/plain": [
       "<Figure size 576x576 with 1 Axes>"
      ]
     },
     "metadata": {},
     "output_type": "display_data"
    }
   ],
   "source": [
    "from tqdm import tqdm_notebook as tqdm\n",
    "num_trial, err_matrix = 1, np.zeros((10, 10))\n",
    "\n",
    "# Fill the err_matrix, for all a < b\n",
    "# err_matrix[a, b] = training error between digits a and b\n",
    "# err_matrix[b, a] = testing error between digits a and b\n",
    "for i in range(9):\n",
    "    for j in range(i+1,10):\n",
    "        err_matrix[i,j]=mnist_pairwise_LS(df, i, j, verbose=False)[0]\n",
    "        err_matrix[j,i]=mnist_pairwise_LS(df, i, j, verbose=False)[1]\n",
    "\n",
    "plt.figure(figsize=(8, 8))\n",
    "plt.imshow(err_matrix)\n",
    "plt.title('upper triangle: training error; lower triangle: testing error');\n",
    "print(np.round(err_matrix*100, 2))"
   ]
  },
  {
   "cell_type": "markdown",
   "metadata": {},
   "source": [
    "### Problem 3.4"
   ]
  },
  {
   "cell_type": "markdown",
   "metadata": {},
   "source": [
    "But, what about a multi-class classifier for MNIST digits? \n",
    "For multi-class linear classification with d classes, one standard approach is to learn a linear mapping $f \\colon \\mathbb{R}^n \\to \\mathbb{R}^d $ where the “$y$”-value for the $i$-th class is chosen to be the standard basis vector $ \\underline{e}_i \\in \\mathbb{R}^d $. \n",
    "This is sometimes called one-hot encoding. \n",
    "Using the same $A$ matrix as before and a matrix $Y$, defined by $Y_{i,j}$ if observation $i$ in class $j$ and $Y_{i,j} = 0$ otherwise, we can solve for the coefficient matrix $Z \\in \\mathbb{R}^d$ coefficients .\n",
    "Then, the classifier maps a vector $\\underline{x}$ to class $i$ if the $i$-th element of $Z^T \\underline{x}$ is the largest element in the vector. \n",
    "\n",
    "Follow the given steps in the template and implement the function for multi-class classification experiment **(30pt)**"
   ]
  },
  {
   "cell_type": "code",
   "execution_count": 18,
   "metadata": {
    "ExecuteTime": {
     "end_time": "2018-11-11T08:14:05.827204Z",
     "start_time": "2018-11-11T08:14:05.821382Z"
    }
   },
   "outputs": [],
   "source": [
    "def mnist_onehot_LS(df, test_size=0.5):\n",
    "    \"\"\"\n",
    "    Experiment for applying least-square to classify all digits using one-hot encoding\n",
    "    Arguments:\n",
    "        df {dataframe} -- the dataframe of MNIST dataset\n",
    "        test_size {float} -- the fraction of testing set, default value is 0.5\n",
    "    Returns:\n",
    "        res {numpy.ndarray} -- numpy.array([traing error, testing error])\n",
    "    \"\"\"\n",
    "    X=df['feature']\n",
    "    y=df['label']\n",
    "    X_train, X_test, y_train, y_test = train_test_split(X, y, test_size=test_size, random_state=0)\n",
    "    X_train=X_train.values   #convert datafram to array\n",
    "    X_test=X_test.values\n",
    "    y_train=y_train.values\n",
    "    y_test=y_test.values\n",
    "    \n",
    "    '''\n",
    "    # Split into training/testing set\n",
    "    tr, te = \n",
    "    '''\n",
    "    \n",
    "    X_tr=np.zeros((X_train.shape[0],784))\n",
    "    y_tr=np.zeros(y_train.shape[0])\n",
    "    for i in range(X_train.shape[0]):\n",
    "        for j in range(784):\n",
    "            X_tr[i,j]=X_train[i][j]\n",
    "    for i in range(y_train.shape[0]):\n",
    "        y_tr[i]=y_train[i]\n",
    "    \n",
    "    X_te=np.zeros((X_test.shape[0],784))\n",
    "    y_te=np.zeros(y_test.shape[0])\n",
    "    for i in range(X_test.shape[0]):\n",
    "        for j in range(784):\n",
    "            X_te[i,j]=X_test[i][j]\n",
    "    for i in range(y_test.shape[0]):\n",
    "        y_te[i]=y_test[i]\n",
    "\n",
    "    '''\n",
    "    # Construct the training set\n",
    "    X_tr = \n",
    "    y_tr = \n",
    "    \n",
    "    # Construct the testing set\n",
    "    X_te = \n",
    "    y_te = \n",
    "    '''\n",
    "    \n",
    "    # Apply one-hot encoding to training labels\n",
    "    Y = np.zeros((y_tr.shape[0],10))\n",
    "    for i in range(y_tr.shape[0]):\n",
    "        for j in range(10):\n",
    "            if (y_tr[i]==j):\n",
    "                Y[i,j]=1\n",
    "    \n",
    "    \n",
    "    # Run least-square on training set\n",
    "    Z = solve_linear_LS(X_tr, Y)\n",
    "    \n",
    "    # Compute estimation and misclassification on training set\n",
    "    Y_hat_tr=X_tr.dot(Z)\n",
    "    y_hat_tr = Y_hat_tr.argmax(axis=1)\n",
    "    \n",
    "    cm_tr=np.zeros((10,10))\n",
    "    for m in range(y_tr.shape[0]):\n",
    "        for i in range(10):\n",
    "            for j in range(10):\n",
    "                if (y_tr[m]==i and y_hat_tr[m]==j):\n",
    "                    cm_tr[i,j]=cm_tr[i,j]+1\n",
    "    err_tr = 0\n",
    "    for i in range(10):\n",
    "        for j in range(10):\n",
    "            if i!=j:\n",
    "                err_tr=err_tr+cm_tr[i,j]\n",
    "    err_tr=err_tr/y_tr.shape[0]\n",
    "    \n",
    "    # Compute estimation and misclassification on training set\n",
    "    Y_hat_te=X_te.dot(Z)\n",
    "    y_hat_te = Y_hat_te.argmax(axis=1)\n",
    "    \n",
    "    cm_te=np.zeros((10,10))\n",
    "    for m in range(y_te.shape[0]):\n",
    "        for i in range(10):\n",
    "            for j in range(10):\n",
    "                if (y_te[m]==i and y_hat_te[m]==j):\n",
    "                    cm_te[i,j]=cm_te[i,j]+1\n",
    "    \n",
    "    err_te = 0\n",
    "    for i in range(10):\n",
    "        for j in range(10):\n",
    "            if i!=j:\n",
    "                err_te=err_te+cm_te[i,j]\n",
    "    err_te=err_te/y_te.shape[0]\n",
    "    \n",
    "    print('training error = {0:.2f}%, testing error = {1:.2f}%'.format(100 * err_tr, 100 * err_te))\n",
    "    # Compute confusion matrix\n",
    "    print('Confusion matrix_test:\\n {0}'.format(cm_te))\n",
    "    print('Confusion matrix_train:\\n {0}'.format(cm_tr))\n",
    "    return np.array([err_tr, err_te])"
   ]
  },
  {
   "cell_type": "code",
   "execution_count": 19,
   "metadata": {
    "ExecuteTime": {
     "end_time": "2018-11-11T08:14:08.452829Z",
     "start_time": "2018-11-11T08:14:06.811273Z"
    },
    "scrolled": true
   },
   "outputs": [
    {
     "name": "stderr",
     "output_type": "stream",
     "text": [
      "C:\\Users\\Administrator\\Anaconda3\\lib\\site-packages\\ipykernel_launcher.py:9: FutureWarning: `rcond` parameter will change to the default of machine precision times ``max(M, N)`` where M and N are the input matrix dimensions.\n",
      "To use the future default and silence this warning we advise to pass `rcond=None`, to keep using the old, explicitly pass `rcond=-1`.\n",
      "  if __name__ == '__main__':\n"
     ]
    },
    {
     "name": "stdout",
     "output_type": "stream",
     "text": [
      "training error = 13.85%, testing error = 15.81%\n",
      "Confusion matrix_test:\n",
      " [[1.962e+03 5.000e+00 8.000e+00 5.000e+00 9.000e+00 1.400e+01 3.200e+01\n",
      "  1.000e+00 2.600e+01 2.000e+00]\n",
      " [1.000e+00 2.275e+03 1.500e+01 9.000e+00 8.000e+00 6.000e+00 1.000e+01\n",
      "  3.000e+00 2.400e+01 4.000e+00]\n",
      " [3.200e+01 8.300e+01 1.694e+03 6.500e+01 4.700e+01 8.000e+00 8.700e+01\n",
      "  3.400e+01 7.200e+01 1.000e+01]\n",
      " [9.000e+00 5.100e+01 6.900e+01 1.824e+03 1.200e+01 4.200e+01 2.000e+01\n",
      "  4.800e+01 5.700e+01 5.900e+01]\n",
      " [7.000e+00 3.300e+01 1.700e+01 5.000e+00 1.755e+03 2.600e+01 2.000e+01\n",
      "  8.000e+00 3.100e+01 1.240e+02]\n",
      " [5.300e+01 2.700e+01 1.100e+01 2.060e+02 3.000e+01 1.280e+03 6.200e+01\n",
      "  1.300e+01 1.650e+02 4.700e+01]\n",
      " [4.400e+01 2.900e+01 2.400e+01 1.000e+00 2.200e+01 3.300e+01 1.905e+03\n",
      "  0.000e+00 1.800e+01 1.000e+00]\n",
      " [2.400e+01 5.800e+01 3.600e+01 2.200e+01 4.900e+01 5.000e+00 2.000e+00\n",
      "  1.865e+03 1.100e+01 1.190e+02]\n",
      " [2.300e+01 1.540e+02 2.200e+01 8.900e+01 5.000e+01 8.700e+01 3.000e+01\n",
      "  6.000e+00 1.476e+03 5.400e+01]\n",
      " [3.300e+01 1.700e+01 6.000e+00 3.900e+01 1.460e+02 7.000e+00 1.000e+00\n",
      "  1.620e+02 2.500e+01 1.643e+03]]\n",
      "Confusion matrix_train:\n",
      " [[1.979e+03 1.000e+00 4.000e+00 6.000e+00 9.000e+00 1.600e+01 2.500e+01\n",
      "  1.000e+00 2.500e+01 2.000e+00]\n",
      " [0.000e+00 2.265e+03 9.000e+00 9.000e+00 2.000e+00 4.000e+00 3.000e+00\n",
      "  4.000e+00 3.100e+01 2.000e+00]\n",
      " [2.500e+01 8.200e+01 1.649e+03 5.200e+01 3.700e+01 2.000e+00 8.100e+01\n",
      "  3.300e+01 7.200e+01 1.200e+01]\n",
      " [1.300e+01 5.200e+01 6.800e+01 1.857e+03 5.000e+00 3.200e+01 1.700e+01\n",
      "  3.800e+01 4.500e+01 3.300e+01]\n",
      " [0.000e+00 3.400e+01 1.800e+01 1.000e+00 1.808e+03 1.800e+01 1.500e+01\n",
      "  9.000e+00 3.200e+01 1.110e+02]\n",
      " [4.700e+01 3.100e+01 8.000e+00 1.600e+02 3.600e+01 1.365e+03 6.700e+01\n",
      "  1.500e+01 1.250e+02 4.700e+01]\n",
      " [4.300e+01 2.200e+01 1.400e+01 1.000e+00 2.300e+01 2.600e+01 1.914e+03\n",
      "  0.000e+00 1.700e+01 0.000e+00]\n",
      " [1.400e+01 6.400e+01 9.000e+00 1.500e+01 5.100e+01 3.000e+00 0.000e+00\n",
      "  1.926e+03 5.000e+00 1.230e+02]\n",
      " [2.400e+01 1.710e+02 1.300e+01 8.400e+01 3.000e+01 6.700e+01 1.500e+01\n",
      "  9.000e+00 1.615e+03 4.400e+01]\n",
      " [1.800e+01 2.000e+01 7.000e+00 4.600e+01 1.300e+02 6.000e+00 2.000e+00\n",
      "  1.530e+02 1.400e+01 1.713e+03]]\n"
     ]
    },
    {
     "data": {
      "text/plain": [
       "array([0.13852381, 0.15814286])"
      ]
     },
     "execution_count": 19,
     "metadata": {},
     "output_type": "execute_result"
    }
   ],
   "source": [
    "mnist_onehot_LS(df)"
   ]
  },
  {
   "cell_type": "code",
   "execution_count": null,
   "metadata": {},
   "outputs": [],
   "source": []
  }
 ],
 "metadata": {
  "hide_input": false,
  "kernelspec": {
   "display_name": "Python 3",
   "language": "python",
   "name": "python3"
  },
  "language_info": {
   "codemirror_mode": {
    "name": "ipython",
    "version": 3
   },
   "file_extension": ".py",
   "mimetype": "text/x-python",
   "name": "python",
   "nbconvert_exporter": "python",
   "pygments_lexer": "ipython3",
   "version": "3.6.5"
  },
  "varInspector": {
   "cols": {
    "lenName": 16,
    "lenType": 16,
    "lenVar": 40
   },
   "kernels_config": {
    "python": {
     "delete_cmd_postfix": "",
     "delete_cmd_prefix": "del ",
     "library": "var_list.py",
     "varRefreshCmd": "print(var_dic_list())"
    },
    "r": {
     "delete_cmd_postfix": ") ",
     "delete_cmd_prefix": "rm(",
     "library": "var_list.r",
     "varRefreshCmd": "cat(var_dic_list()) "
    }
   },
   "position": {
    "height": "309px",
    "left": "1550px",
    "right": "20px",
    "top": "120px",
    "width": "350px"
   },
   "types_to_exclude": [
    "module",
    "function",
    "builtin_function_or_method",
    "instance",
    "_Feature"
   ],
   "window_display": false
  }
 },
 "nbformat": 4,
 "nbformat_minor": 2
}
